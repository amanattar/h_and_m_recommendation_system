{
 "cells": [
  {
   "cell_type": "code",
   "execution_count": null,
   "metadata": {},
   "outputs": [],
   "source": [
    "import pandas as pd\n",
    "import numpy as np\n",
    "from lightfm import LightFM\n",
    "from sklearn.metrics.pairwise import cosine_similarity\n",
    "from tensorflow.keras.preprocessing import image\n",
    "from tensorflow.keras.applications.resnet50 import ResNet50, preprocess_input\n",
    "from scipy.sparse import csr_matrix\n",
    "import os\n",
    "import pickle\n",
    "from tqdm import tqdm\n",
    "\n",
    "# Load cleaned datasets\n",
    "customers = pd.read_csv('../data/customers_cleaned.csv')\n",
    "transactions_cleaned = pd.read_csv('../data/transactions_cleaned.csv')\n",
    "articles_cleaned = pd.read_csv('../data/articles_cleaned.csv')\n",
    "\n",
    "# Display first few rows of each dataset\n",
    "display(customers.head(), transactions_cleaned.head(), articles_cleaned.head())\n"
   ]
  },
  {
   "cell_type": "code",
   "execution_count": null,
   "metadata": {},
   "outputs": [],
   "source": [
    "import sys\n",
    "print(sys.executable)\n"
   ]
  },
  {
   "cell_type": "code",
   "execution_count": null,
   "metadata": {},
   "outputs": [],
   "source": [
    "# Create a pivot table for customer-article interactions (number of purchases)\n",
    "interaction_matrix = pd.pivot_table(transactions_cleaned, values='price', index='customer_id', columns='article_id', fill_value=0)\n",
    "\n",
    "# Convert the interaction matrix to a sparse matrix format required by LightFM\n",
    "sparse_interactions = csr_matrix(interaction_matrix.values)\n",
    "\n",
    "# Display the interaction matrix\n",
    "interaction_matrix = interaction_matrix.astype('float32')\n",
    "display(interaction_matrix.head())\n"
   ]
  },
  {
   "cell_type": "code",
   "execution_count": null,
   "metadata": {},
   "outputs": [],
   "source": []
  }
 ],
 "metadata": {
  "kernelspec": {
   "display_name": "h_and_m",
   "language": "python",
   "name": "python3"
  },
  "language_info": {
   "codemirror_mode": {
    "name": "ipython",
    "version": 3
   },
   "file_extension": ".py",
   "mimetype": "text/x-python",
   "name": "python",
   "nbconvert_exporter": "python",
   "pygments_lexer": "ipython3",
   "version": "3.9.20"
  }
 },
 "nbformat": 4,
 "nbformat_minor": 2
}
